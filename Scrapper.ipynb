{
 "cells": [
  {
   "cell_type": "markdown",
   "id": "ca26df5a-3742-4f87-8b0b-a2fa32c4e2b9",
   "metadata": {
    "tags": []
   },
   "source": [
    "## Import Modules"
   ]
  },
  {
   "cell_type": "code",
   "execution_count": 100,
   "id": "8c71c270-de7d-4330-bd60-7c55d3ac49f9",
   "metadata": {
    "tags": []
   },
   "outputs": [],
   "source": [
    "from bs4 import BeautifulSoup\n",
    "from selenium import webdriver\n",
    "from selenium.webdriver.common.by import By\n",
    "import pandas as pd\n",
    "from urllib.parse import urlparse, parse_qs"
   ]
  },
  {
   "cell_type": "markdown",
   "id": "d537edf0-225f-482e-a652-6419f51b25bd",
   "metadata": {},
   "source": [
    "## Set path form chrome drive"
   ]
  },
  {
   "cell_type": "code",
   "execution_count": 101,
   "id": "9262edac-a9a1-48e1-b8f7-e2d8b1a7a4df",
   "metadata": {
    "tags": []
   },
   "outputs": [],
   "source": [
    "path = '/Users/sathwik/Desktop/chromedriver.exe'"
   ]
  },
  {
   "cell_type": "code",
   "execution_count": 115,
   "id": "f725e535-d9aa-4dd2-a1ab-fba445ed9c4e",
   "metadata": {
    "tags": []
   },
   "outputs": [],
   "source": [
    "browser = webdriver.Chrome()"
   ]
  },
  {
   "cell_type": "code",
   "execution_count": 107,
   "id": "6713e457-9870-4f22-aeb5-ef63d1a12f64",
   "metadata": {
    "tags": []
   },
   "outputs": [],
   "source": [
    "url = 'https://www.imdb.com/feature/genre/'"
   ]
  },
  {
   "cell_type": "code",
   "execution_count": 108,
   "id": "f8da9cbd-018b-48b9-8734-982dae94a871",
   "metadata": {
    "tags": []
   },
   "outputs": [],
   "source": [
    "browser.get(url)"
   ]
  },
  {
   "cell_type": "markdown",
   "id": "ddbc744e-cae0-4b37-9ceb-5fe413bc525f",
   "metadata": {},
   "source": [
    "## Scrap the data"
   ]
  },
  {
   "cell_type": "code",
   "execution_count": 109,
   "id": "3b24e8db-fca6-48d3-9d77-6abbc0e8f784",
   "metadata": {
    "tags": []
   },
   "outputs": [],
   "source": [
    "## List of Genre\n",
    "genre_list = browser.find_elements(By.XPATH, \"//a[@class='ipc-chip ipc-chip--on-base-accent2']\")\n",
    "# genre_list"
   ]
  },
  {
   "cell_type": "code",
   "execution_count": 110,
   "id": "bb5f9447-b4bc-4ca0-9ec7-f515fbda6626",
   "metadata": {
    "tags": []
   },
   "outputs": [],
   "source": [
    "genres = []\n",
    "for genre in genre_list:\n",
    "    temp = genre.text\n",
    "    if temp not in genres:\n",
    "        genres.append(temp)\n",
    "# genres"
   ]
  },
  {
   "cell_type": "code",
   "execution_count": 111,
   "id": "0c80e974-5c09-4679-a672-1e652e297446",
   "metadata": {
    "tags": []
   },
   "outputs": [],
   "source": [
    "\n",
    "def parse(url):\n",
    "    # Parse the URL\n",
    "    parsed_url = urlparse(url)\n",
    "\n",
    "    # Extract the path and split it\n",
    "    path_parts = parsed_url.path.split('/')\n",
    "\n",
    "    # Extract the required movie id (assuming it's the third part in the path)\n",
    "    id = path_parts[2]\n",
    "\n",
    "    return id\n"
   ]
  },
  {
   "cell_type": "code",
   "execution_count": 112,
   "id": "cfa2a4de-119d-4e23-a8f4-cc235bfddb3c",
   "metadata": {
    "tags": []
   },
   "outputs": [],
   "source": [
    "library = {}\n",
    "for genre in genres:\n",
    "    genre_url = f\"https://www.imdb.com/search/title/?title_type=feature&genres={genre}\"\n",
    "    browser.get(genre_url)\n",
    "    movie_name_xpath = \"//h3[@class='ipc-title__text']\"\n",
    "    \n",
    "    movie_list = browser.find_elements(By.XPATH, movie_name_xpath)\n",
    "\n",
    "    movie_link_xpath = \"//a[@class='ipc-title-link-wrapper']\"\n",
    "    movie_link_list = browser.find_elements(By.XPATH, movie_link_xpath)\n",
    "\n",
    "    movie_ids = []\n",
    "    for link in movie_link_list:\n",
    "        temp = parse(link.get_attribute('href'))\n",
    "        if temp not in movie_ids and len(movie_ids) < 20:\n",
    "            movie_ids.append(temp)\n",
    "            \n",
    "    library[genre] = movie_ids\n",
    "\n",
    "# print(library)"
   ]
  },
  {
   "cell_type": "code",
   "execution_count": null,
   "id": "65ad97f4-f3e7-4f96-aade-164cb2f15abe",
   "metadata": {
    "tags": []
   },
   "outputs": [],
   "source": [
    "reviews = {}\n",
    "movies_scrapped = {}\n",
    "for genre in library:\n",
    "    for movie_id in library[genre]:\n",
    "        if movie_id in movies_scrapped:\n",
    "            continue\n",
    "        movies_scrapped[movie_id] = True   \n",
    "        movie_url = f\"https://www.imdb.com/title/{movie_id}/reviews?sort=submissionDate&dir=desc&ratingFilter=0\"\n",
    "        browser.get(movie_url)\n",
    "\n",
    "        reviews_list = []\n",
    "\n",
    "        # Finding and Clicking on spoiler-elements\n",
    "\n",
    "        buttons = browser.find_elements(By.XPATH, \"//div[@class='ipl-expander spoiler-warning'] | //div[@class='expander-icon-wrapper spoiler-warning__control']\")\n",
    "\n",
    "        # Click on the element to trigger the display of the div\n",
    "        \n",
    "        for button in buttons:\n",
    "            button.click()\n",
    "\n",
    "        browser.implicitly_wait(1) \n",
    "\n",
    "        titles = browser.find_elements(By.XPATH, \"//a[@class='title']\")  \n",
    "        content_divs = browser.find_elements(By.XPATH, \"//div[@class='text'] | //div[@class='text show-more__control'] | //div[@class='text show-more__control clickable']\")\n",
    "\n",
    "        # print(titles)\n",
    "        # print(content_divs)\n",
    "        for title, content_div in zip(titles, content_divs):\n",
    "            heading = title.text.strip()\n",
    "            description = content_div.get_attribute(\"innerHTML\")\n",
    "            soup = BeautifulSoup(description, 'html.parser')\n",
    "            refined_description = soup.get_text(separator=' ')\n",
    "            reviews_list.append({\"title\": heading, \"content\": refined_description})\n",
    "\n",
    "            if len(reviews_list) == 10:\n",
    "                break\n",
    "\n",
    "        movie = browser.find_element(By.XPATH, \"//*[@itemprop='name']\").text\n",
    "        reviews[movie] = reviews_list\n",
    "        \n"
   ]
  },
  {
   "cell_type": "code",
   "execution_count": null,
   "id": "aeaa7f1a-2d8a-4228-be2d-bd54b9e799bf",
   "metadata": {},
   "outputs": [],
   "source": []
  }
 ],
 "metadata": {
  "kernelspec": {
   "display_name": "Python 3 (ipykernel)",
   "language": "python",
   "name": "python3"
  },
  "language_info": {
   "codemirror_mode": {
    "name": "ipython",
    "version": 3
   },
   "file_extension": ".py",
   "mimetype": "text/x-python",
   "name": "python",
   "nbconvert_exporter": "python",
   "pygments_lexer": "ipython3",
   "version": "3.11.4"
  }
 },
 "nbformat": 4,
 "nbformat_minor": 5
}
